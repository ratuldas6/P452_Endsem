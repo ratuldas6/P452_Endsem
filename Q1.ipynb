{
 "cells": [
  {
   "cell_type": "code",
   "execution_count": 5,
   "metadata": {},
   "outputs": [],
   "source": [
    "from mylibrary import * \n",
    "import math\n",
    "import numpy as np\n",
    "import matplotlib.pyplot as plt\n",
    "from scipy.optimize import curve_fit"
   ]
  },
  {
   "cell_type": "code",
   "execution_count": 2,
   "metadata": {},
   "outputs": [],
   "source": [
    "file = open(\"endsemfit.txt\", \"r+\")\n",
    "\n",
    "file_list = []\n",
    "\n",
    "for line in file:\n",
    "    file_list.append(line)\n",
    "\n",
    "data =[]\n",
    "for i in range(len(file_list)):\n",
    "    char_list = file_list[i].split()\n",
    "    for i in range(len(char_list)):\n",
    "        char_list[i] = int(char_list[i])\n",
    "    data.append(char_list)"
   ]
  },
  {
   "cell_type": "code",
   "execution_count": 9,
   "metadata": {},
   "outputs": [],
   "source": [
    "time_list = np.array([elem[0] for elem in data])\n",
    "count_list = np.array([elem[1] for elem in data]) \n",
    "uncertainty_list = np.array([elem[2] for elem in data])"
   ]
  },
  {
   "cell_type": "code",
   "execution_count": 24,
   "metadata": {},
   "outputs": [
    {
     "data": {
      "text/plain": [
       "Text(0, 0.5, 'Counts')"
      ]
     },
     "execution_count": 24,
     "metadata": {},
     "output_type": "execute_result"
    },
    {
     "data": {
      "image/png": "[encoded data removed]",
      "text/plain": [
       "<Figure size 640x480 with 1 Axes>"
      ]
     },
     "metadata": {},
     "output_type": "display_data"
    }
   ],
   "source": [
    "plt.scatter(time_list, count_list)\n",
    "plt.title('Counts as a function of time')\n",
    "plt.xlabel('Time (s)')\n",
    "plt.ylabel('Counts')"
   ]
  },
  {
   "cell_type": "code",
   "execution_count": 27,
   "metadata": {},
   "outputs": [
    {
     "name": "stdout",
     "output_type": "stream",
     "text": [
      "Lifetime (tau): 112.031 s\n",
      "Error in tau: 12.601 s\n"
     ]
    }
   ],
   "source": [
    "log_counts = np.log(count_list)\n",
    "log_uncertainties = uncertainty_list/count_list\n",
    "\n",
    "# defining the linear model function\n",
    "def linear_model(x, m, c):\n",
    "    return m * x + c\n",
    "\n",
    "# performing chi-square minimization using curve_fit with sigma for weighting\n",
    "popt, pcov = curve_fit(linear_model, time_list, log_counts, sigma=log_uncertainties, absolute_sigma=True)\n",
    "\n",
    "# extracting the m and c from fit parameters\n",
    "m, c = popt\n",
    "tau = -1/m                                # lifetime\n",
    "delta_tau = np.sqrt(pcov[0, 0]) / (m**2)  # error in lifetime\n",
    "\n",
    "print(\"Lifetime (tau): \" + '%.3f'%tau + \" s\")\n",
    "print(\"Error in tau: \" + '%.3f'%delta_tau + \" s\")"
   ]
  },
  {
   "cell_type": "markdown",
   "metadata": {},
   "source": [
    "Number of degrees of freedom $= N - 1 = 9$\n",
    "\n",
    "For a right-tailed distribution, the critical value of $\\chi^2$ at 5% for 9 degrees of freedom is 16.919\n",
    "\n",
    "We found that for our data, $\\chi^2 = 12.601$\n",
    "\n",
    "Therefore, the null hypothesis is retained, since $\\chi_{critcial}^2 > \\chi_{calculated}^2$"
   ]
  }
 ],
 "metadata": {
  "kernelspec": {
   "display_name": "Python 3",
   "language": "python",
   "name": "python3"
  },
  "language_info": {
   "codemirror_mode": {
    "name": "ipython",
    "version": 3
   },
   "file_extension": ".py",
   "mimetype": "text/x-python",
   "name": "python",
   "nbconvert_exporter": "python",
   "pygments_lexer": "ipython3",
   "version": "3.11.2"
  }
 },
 "nbformat": 4,
 "nbformat_minor": 2
}
