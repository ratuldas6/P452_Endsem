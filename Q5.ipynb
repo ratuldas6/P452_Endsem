{
 "cells": [
  {
   "cell_type": "code",
   "execution_count": 105,
   "metadata": {},
   "outputs": [],
   "source": [
    "from mylibrary import * \n",
    "import math\n",
    "import numpy as np\n",
    "import matplotlib.pyplot as plt"
   ]
  },
  {
   "cell_type": "code",
   "execution_count": 130,
   "metadata": {},
   "outputs": [],
   "source": [
    "file = open(\"endsemmat.txt\", \"r+\")\n",
    "\n",
    "file_list = []\n",
    "\n",
    "for line in file:\n",
    "    file_list.append(line)\n",
    "\n",
    "matrix =[]\n",
    "for i in range(len(file_list)):\n",
    "    char_list = file_list[i].split()\n",
    "    for i in range(len(char_list)):\n",
    "        char_list[i] = int(char_list[i])\n",
    "    matrix.append(char_list)\n",
    "\n",
    "matrix = np.array(matrix)"
   ]
  },
  {
   "cell_type": "code",
   "execution_count": 131,
   "metadata": {},
   "outputs": [
    {
     "name": "stdout",
     "output_type": "stream",
     "text": [
      "The largest eigenvalue is 3.732\n",
      "The eigenvector corresponding to the largest eigenvalue is:\n",
      "[-0.289  0.5   -0.577  0.5   -0.289]\n"
     ]
    }
   ],
   "source": [
    "eigenvalue1, eigenvector1 = power_iter(matrix)\n",
    "print('The largest eigenvalue is ' + '%.3f'%eigenvalue1)\n",
    "print('The eigenvector corresponding to the largest eigenvalue is:')\n",
    "for i in range(len(eigenvector1)):\n",
    "    eigenvector1[i] = round(eigenvector1[i], 3)\n",
    "print(eigenvector1)"
   ]
  },
  {
   "cell_type": "code",
   "execution_count": 132,
   "metadata": {},
   "outputs": [
    {
     "name": "stdout",
     "output_type": "stream",
     "text": [
      "The 2nd largest eigenvalue is 3.000\n",
      "The eigenvector corresponding to the 2nd largest eigenvalue is:\n",
      "[-0.5  0.5 -0.  -0.5  0.5]\n"
     ]
    }
   ],
   "source": [
    "matrix_deflated = matrix - eigenvalue1 * np.outer(eigenvector1, eigenvector1)\n",
    "eigenvalue2, eigenvector2 = power_iter(matrix_deflated)\n",
    "print('The 2nd largest eigenvalue is ' + '%.3f'%eigenvalue2)\n",
    "print('The eigenvector corresponding to the 2nd largest eigenvalue is:')\n",
    "for i in range(len(eigenvector2)):\n",
    "    eigenvector2[i] = round(eigenvector2[i], 3)\n",
    "print(eigenvector2)"
   ]
  },
  {
   "cell_type": "code",
   "execution_count": 146,
   "metadata": {},
   "outputs": [],
   "source": [
    "a = -1\n",
    "b = 2\n",
    "c = -1\n",
    "n = 5\n",
    "\n",
    "def lambda_k(k):\n",
    "    eigenvalue = b + 2*np.sqrt(a*c)*np.cos(k*np.pi/(n+1))\n",
    "    return round(eigenvalue, 3)\n",
    "\n",
    "def v_k(k):\n",
    "    v = []\n",
    "    for i in range(1, n+1):\n",
    "        eigenvector_elem = 2*((np.sqrt(c/a))**k)*np.sin((i*k*np.pi)/(n+1))\n",
    "        v.append(eigenvector_elem)\n",
    "    v = np.array(v)\n",
    "    v_norm = v/np.sqrt(np.sum(v**2))\n",
    "    for i in range(len(v_norm)):\n",
    "        v_norm[i] = round(v_norm[i], 3)\n",
    "    return v_norm"
   ]
  },
  {
   "cell_type": "code",
   "execution_count": 144,
   "metadata": {},
   "outputs": [
    {
     "name": "stdout",
     "output_type": "stream",
     "text": [
      "The eigenvalues for the matrix as per the function given in the question are:\n",
      "lambda_1 = 3.732\n",
      "lambda_2 = 3.0\n",
      "lambda_3 = 2.0\n",
      "lambda_4 = 1.0\n",
      "lambda_5 = 0.268\n"
     ]
    }
   ],
   "source": [
    "eigenvalue_list = []\n",
    "print('The eigenvalues for the matrix as per the function given in the question are:')\n",
    "for i in range(1,len(matrix)+1):\n",
    "    print('lambda_' + str(i) + ' = ' + str(lambda_k(i)))"
   ]
  },
  {
   "cell_type": "code",
   "execution_count": 147,
   "metadata": {},
   "outputs": [
    {
     "name": "stdout",
     "output_type": "stream",
     "text": [
      "The eigenvectors for the matrix as per the function given in the question are:\n",
      "v_1 = [0.289 0.5   0.577 0.5   0.289]\n",
      "v_2 = [ 0.5  0.5  0.  -0.5 -0.5]\n",
      "v_3 = [ 0.577  0.    -0.577 -0.     0.577]\n",
      "v_4 = [ 0.5 -0.5 -0.   0.5 -0.5]\n",
      "v_5 = [ 0.289 -0.5    0.577 -0.5    0.289]\n"
     ]
    }
   ],
   "source": [
    "eigenvector_list = []\n",
    "print('The eigenvectors for the matrix as per the function given in the question are:')\n",
    "for i in range(1,len(matrix)+1):\n",
    "    print('v_' + str(i) + ' = ' + str(v_k(i)))"
   ]
  },
  {
   "cell_type": "markdown",
   "metadata": {},
   "source": [
    "The two largest eigenvalues for the matrix are the same as the ones obtained from the given function for $\\lambda_k$.\n",
    "\n",
    "However, in case of the eigenvectors for each of these eigenvalues, there is a discrepancy in terms of the sign obtained when comparing with $v_k$. It could either be an error with the function provided for $v_k$, or with the code used for the calculations."
   ]
  }
 ],
 "metadata": {
  "kernelspec": {
   "display_name": "Python 3",
   "language": "python",
   "name": "python3"
  },
  "language_info": {
   "codemirror_mode": {
    "name": "ipython",
    "version": 3
   },
   "file_extension": ".py",
   "mimetype": "text/x-python",
   "name": "python",
   "nbconvert_exporter": "python",
   "pygments_lexer": "ipython3",
   "version": "3.11.2"
  }
 },
 "nbformat": 4,
 "nbformat_minor": 2
}
